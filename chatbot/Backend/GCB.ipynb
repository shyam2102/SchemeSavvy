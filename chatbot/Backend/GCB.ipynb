{
 "cells": [
  {
   "cell_type": "code",
   "execution_count": 1,
   "id": "5f694038",
   "metadata": {},
   "outputs": [],
   "source": [
    "import numpy as np\n",
    "import pandas as pd\n",
    "import warnings\n",
    "warnings.simplefilter(\"ignore\")\n",
    "from sklearn.preprocessing import OneHotEncoder\n",
    "from sklearn.compose import ColumnTransformer\n",
    "from sklearn.pipeline import Pipeline\n",
    "from sklearn.impute import SimpleImputer\n",
    "from sklearn.metrics import precision_score, recall_score, f1_score"
   ]
  },
  {
   "cell_type": "code",
   "execution_count": 2,
   "id": "fac0e804",
   "metadata": {},
   "outputs": [],
   "source": [
    "df = pd.read_csv(\"data.csv\")"
   ]
  },
  {
   "cell_type": "code",
   "execution_count": 3,
   "id": "04782c6a",
   "metadata": {},
   "outputs": [
    {
     "data": {
      "text/html": [
       "<div>\n",
       "<style scoped>\n",
       "    .dataframe tbody tr th:only-of-type {\n",
       "        vertical-align: middle;\n",
       "    }\n",
       "\n",
       "    .dataframe tbody tr th {\n",
       "        vertical-align: top;\n",
       "    }\n",
       "\n",
       "    .dataframe thead th {\n",
       "        text-align: right;\n",
       "    }\n",
       "</style>\n",
       "<table border=\"1\" class=\"dataframe\">\n",
       "  <thead>\n",
       "    <tr style=\"text-align: right;\">\n",
       "      <th></th>\n",
       "      <th>Q</th>\n",
       "      <th>Description</th>\n",
       "      <th>Link</th>\n",
       "      <th>A</th>\n",
       "    </tr>\n",
       "  </thead>\n",
       "  <tbody>\n",
       "    <tr>\n",
       "      <th>0</th>\n",
       "      <td>TN Illam Thedi Kalvi Scheme</td>\n",
       "      <td>Aims to reduce the learning gap for children f...</td>\n",
       "      <td>http://illamthedikalvi.tnschools.gov.in</td>\n",
       "      <td>Aims to reduce the learning gap for children f...</td>\n",
       "    </tr>\n",
       "    <tr>\n",
       "      <th>1</th>\n",
       "      <td>Dr. Muthulakshmi Reddy Maternity Benefit Scheme</td>\n",
       "      <td>Provides Amma Maternity Nutrition Kit to pregn...</td>\n",
       "      <td>NaN</td>\n",
       "      <td>Provides Amma Maternity Nutrition Kit to pregn...</td>\n",
       "    </tr>\n",
       "    <tr>\n",
       "      <th>2</th>\n",
       "      <td>TNSAND</td>\n",
       "      <td>Online sand booking portal for transparency in...</td>\n",
       "      <td>http://www.tnsand.in</td>\n",
       "      <td>Online sand booking portal for transparency in...</td>\n",
       "    </tr>\n",
       "    <tr>\n",
       "      <th>3</th>\n",
       "      <td>Puthumai Penn Scheme</td>\n",
       "      <td>Monthly scholarship of Rs. 1000 to girl studen...</td>\n",
       "      <td>http://penkalvi.tn.gov.in</td>\n",
       "      <td>Monthly scholarship of Rs. 1000 to girl studen...</td>\n",
       "    </tr>\n",
       "    <tr>\n",
       "      <th>4</th>\n",
       "      <td>Naan Mudhalvan Scheme</td>\n",
       "      <td>Skill development initiative for students to e...</td>\n",
       "      <td>http://naanmudhalvan.tn.gov.in</td>\n",
       "      <td>Skill development initiative for students to e...</td>\n",
       "    </tr>\n",
       "  </tbody>\n",
       "</table>\n",
       "</div>"
      ],
      "text/plain": [
       "                                                 Q  \\\n",
       "0                      TN Illam Thedi Kalvi Scheme   \n",
       "1  Dr. Muthulakshmi Reddy Maternity Benefit Scheme   \n",
       "2                                           TNSAND   \n",
       "3                             Puthumai Penn Scheme   \n",
       "4                            Naan Mudhalvan Scheme   \n",
       "\n",
       "                                         Description  \\\n",
       "0  Aims to reduce the learning gap for children f...   \n",
       "1  Provides Amma Maternity Nutrition Kit to pregn...   \n",
       "2  Online sand booking portal for transparency in...   \n",
       "3  Monthly scholarship of Rs. 1000 to girl studen...   \n",
       "4  Skill development initiative for students to e...   \n",
       "\n",
       "                                      Link  \\\n",
       "0  http://illamthedikalvi.tnschools.gov.in   \n",
       "1                                      NaN   \n",
       "2                     http://www.tnsand.in   \n",
       "3                http://penkalvi.tn.gov.in   \n",
       "4           http://naanmudhalvan.tn.gov.in   \n",
       "\n",
       "                                                   A  \n",
       "0  Aims to reduce the learning gap for children f...  \n",
       "1  Provides Amma Maternity Nutrition Kit to pregn...  \n",
       "2  Online sand booking portal for transparency in...  \n",
       "3  Monthly scholarship of Rs. 1000 to girl studen...  \n",
       "4  Skill development initiative for students to e...  "
      ]
     },
     "execution_count": 3,
     "metadata": {},
     "output_type": "execute_result"
    }
   ],
   "source": [
    "df.head()"
   ]
  },
  {
   "cell_type": "code",
   "execution_count": 4,
   "id": "62452162",
   "metadata": {},
   "outputs": [
    {
     "data": {
      "text/html": [
       "<div>\n",
       "<style scoped>\n",
       "    .dataframe tbody tr th:only-of-type {\n",
       "        vertical-align: middle;\n",
       "    }\n",
       "\n",
       "    .dataframe tbody tr th {\n",
       "        vertical-align: top;\n",
       "    }\n",
       "\n",
       "    .dataframe thead th {\n",
       "        text-align: right;\n",
       "    }\n",
       "</style>\n",
       "<table border=\"1\" class=\"dataframe\">\n",
       "  <thead>\n",
       "    <tr style=\"text-align: right;\">\n",
       "      <th></th>\n",
       "      <th>Q</th>\n",
       "      <th>Description</th>\n",
       "      <th>Link</th>\n",
       "      <th>A</th>\n",
       "    </tr>\n",
       "  </thead>\n",
       "  <tbody>\n",
       "    <tr>\n",
       "      <th>9691</th>\n",
       "      <td>TN Amma Two-Wheeler Scheme</td>\n",
       "      <td>Empowering working women with subsidies for tw...</td>\n",
       "      <td>https://www.tn.gov.in</td>\n",
       "      <td>Empowering working women with subsidies for tw...</td>\n",
       "    </tr>\n",
       "    <tr>\n",
       "      <th>9692</th>\n",
       "      <td>Tamil Nadu Free Laptop Scheme</td>\n",
       "      <td>Free laptops to students for digital learning</td>\n",
       "      <td>https://www.tn.gov.in</td>\n",
       "      <td>Free laptops to students for digital learning ...</td>\n",
       "    </tr>\n",
       "    <tr>\n",
       "      <th>9693</th>\n",
       "      <td>TN Chief Minister Comprehensive Health Insuran...</td>\n",
       "      <td>Medical insurance coverage for Tamil Nadu resi...</td>\n",
       "      <td>https://www.tn.gov.in</td>\n",
       "      <td>Medical insurance coverage for Tamil Nadu resi...</td>\n",
       "    </tr>\n",
       "    <tr>\n",
       "      <th>9694</th>\n",
       "      <td>TN Free Bicycle Scheme</td>\n",
       "      <td>Distributing bicycles to students in governmen...</td>\n",
       "      <td>https://www.tn.gov.in</td>\n",
       "      <td>Distributing bicycles to students in governmen...</td>\n",
       "    </tr>\n",
       "    <tr>\n",
       "      <th>9695</th>\n",
       "      <td>Tamil Nadu Free Sewing Machine Scheme</td>\n",
       "      <td>Free sewing machines for women and differently...</td>\n",
       "      <td>https://www.tn.gov.in</td>\n",
       "      <td>Free sewing machines for women and differently...</td>\n",
       "    </tr>\n",
       "  </tbody>\n",
       "</table>\n",
       "</div>"
      ],
      "text/plain": [
       "                                                      Q  \\\n",
       "9691                         TN Amma Two-Wheeler Scheme   \n",
       "9692                      Tamil Nadu Free Laptop Scheme   \n",
       "9693  TN Chief Minister Comprehensive Health Insuran...   \n",
       "9694                             TN Free Bicycle Scheme   \n",
       "9695              Tamil Nadu Free Sewing Machine Scheme   \n",
       "\n",
       "                                            Description  \\\n",
       "9691  Empowering working women with subsidies for tw...   \n",
       "9692      Free laptops to students for digital learning   \n",
       "9693  Medical insurance coverage for Tamil Nadu resi...   \n",
       "9694  Distributing bicycles to students in governmen...   \n",
       "9695  Free sewing machines for women and differently...   \n",
       "\n",
       "                       Link                                                  A  \n",
       "9691  https://www.tn.gov.in  Empowering working women with subsidies for tw...  \n",
       "9692  https://www.tn.gov.in  Free laptops to students for digital learning ...  \n",
       "9693  https://www.tn.gov.in  Medical insurance coverage for Tamil Nadu resi...  \n",
       "9694  https://www.tn.gov.in  Distributing bicycles to students in governmen...  \n",
       "9695  https://www.tn.gov.in  Free sewing machines for women and differently...  "
      ]
     },
     "execution_count": 4,
     "metadata": {},
     "output_type": "execute_result"
    }
   ],
   "source": [
    "df.tail()"
   ]
  },
  {
   "cell_type": "code",
   "execution_count": 5,
   "id": "1280a704",
   "metadata": {},
   "outputs": [
    {
     "data": {
      "text/plain": [
       "Q                 0\n",
       "Description       0\n",
       "Link           4608\n",
       "A                 0\n",
       "dtype: int64"
      ]
     },
     "execution_count": 5,
     "metadata": {},
     "output_type": "execute_result"
    }
   ],
   "source": [
    "df.isnull().sum()"
   ]
  },
  {
   "cell_type": "code",
   "execution_count": 6,
   "id": "a39c5842",
   "metadata": {},
   "outputs": [
    {
     "name": "stdout",
     "output_type": "stream",
     "text": [
      "<class 'pandas.core.frame.DataFrame'>\n",
      "RangeIndex: 9696 entries, 0 to 9695\n",
      "Data columns (total 4 columns):\n",
      " #   Column       Non-Null Count  Dtype \n",
      "---  ------       --------------  ----- \n",
      " 0   Q            9696 non-null   object\n",
      " 1   Description  9696 non-null   object\n",
      " 2   Link         5088 non-null   object\n",
      " 3   A            9696 non-null   object\n",
      "dtypes: object(4)\n",
      "memory usage: 303.1+ KB\n"
     ]
    }
   ],
   "source": [
    "df.info()"
   ]
  },
  {
   "cell_type": "code",
   "execution_count": 7,
   "id": "7bc4b538",
   "metadata": {},
   "outputs": [
    {
     "data": {
      "text/plain": [
       "Index(['Q', 'Description', 'Link', 'A'], dtype='object')"
      ]
     },
     "execution_count": 7,
     "metadata": {},
     "output_type": "execute_result"
    }
   ],
   "source": [
    "df.columns"
   ]
  },
  {
   "cell_type": "code",
   "execution_count": 8,
   "id": "6367ff71",
   "metadata": {},
   "outputs": [],
   "source": [
    "from sklearn.pipeline import Pipeline\n",
    "from sklearn.naive_bayes import MultinomialNB\n",
    "from sklearn.model_selection import train_test_split\n",
    "from sklearn.metrics import accuracy_score"
   ]
  },
  {
   "cell_type": "code",
   "execution_count": 9,
   "id": "5cf4d898",
   "metadata": {},
   "outputs": [],
   "source": [
    "from sklearn.feature_extraction.text import TfidfVectorizer"
   ]
  },
  {
   "cell_type": "code",
   "execution_count": 10,
   "id": "f44142a4",
   "metadata": {},
   "outputs": [],
   "source": [
    "X = df['Q']\n",
    "y = df['A']"
   ]
  },
  {
   "cell_type": "code",
   "execution_count": 11,
   "id": "cc3b0439",
   "metadata": {},
   "outputs": [],
   "source": [
    "from sklearn.model_selection import train_test_split\n",
    "# Split the data into training and testing sets\n",
    "X_train, X_test, y_train, y_test = train_test_split(X, y, test_size=0.2, random_state=42)"
   ]
  },
  {
   "cell_type": "code",
   "execution_count": 12,
   "id": "ac51b1e1",
   "metadata": {},
   "outputs": [],
   "source": [
    "vectorizer = TfidfVectorizer(stop_words='english')\n",
    "X_train_tfidf = vectorizer.fit_transform(X_train)\n",
    "X_test_tfidf = vectorizer.transform(X_test)"
   ]
  },
  {
   "cell_type": "code",
   "execution_count": 13,
   "id": "8f7c072a",
   "metadata": {},
   "outputs": [
    {
     "data": {
      "text/html": [
       "<style>#sk-container-id-1 {color: black;background-color: white;}#sk-container-id-1 pre{padding: 0;}#sk-container-id-1 div.sk-toggleable {background-color: white;}#sk-container-id-1 label.sk-toggleable__label {cursor: pointer;display: block;width: 100%;margin-bottom: 0;padding: 0.3em;box-sizing: border-box;text-align: center;}#sk-container-id-1 label.sk-toggleable__label-arrow:before {content: \"▸\";float: left;margin-right: 0.25em;color: #696969;}#sk-container-id-1 label.sk-toggleable__label-arrow:hover:before {color: black;}#sk-container-id-1 div.sk-estimator:hover label.sk-toggleable__label-arrow:before {color: black;}#sk-container-id-1 div.sk-toggleable__content {max-height: 0;max-width: 0;overflow: hidden;text-align: left;background-color: #f0f8ff;}#sk-container-id-1 div.sk-toggleable__content pre {margin: 0.2em;color: black;border-radius: 0.25em;background-color: #f0f8ff;}#sk-container-id-1 input.sk-toggleable__control:checked~div.sk-toggleable__content {max-height: 200px;max-width: 100%;overflow: auto;}#sk-container-id-1 input.sk-toggleable__control:checked~label.sk-toggleable__label-arrow:before {content: \"▾\";}#sk-container-id-1 div.sk-estimator input.sk-toggleable__control:checked~label.sk-toggleable__label {background-color: #d4ebff;}#sk-container-id-1 div.sk-label input.sk-toggleable__control:checked~label.sk-toggleable__label {background-color: #d4ebff;}#sk-container-id-1 input.sk-hidden--visually {border: 0;clip: rect(1px 1px 1px 1px);clip: rect(1px, 1px, 1px, 1px);height: 1px;margin: -1px;overflow: hidden;padding: 0;position: absolute;width: 1px;}#sk-container-id-1 div.sk-estimator {font-family: monospace;background-color: #f0f8ff;border: 1px dotted black;border-radius: 0.25em;box-sizing: border-box;margin-bottom: 0.5em;}#sk-container-id-1 div.sk-estimator:hover {background-color: #d4ebff;}#sk-container-id-1 div.sk-parallel-item::after {content: \"\";width: 100%;border-bottom: 1px solid gray;flex-grow: 1;}#sk-container-id-1 div.sk-label:hover label.sk-toggleable__label {background-color: #d4ebff;}#sk-container-id-1 div.sk-serial::before {content: \"\";position: absolute;border-left: 1px solid gray;box-sizing: border-box;top: 0;bottom: 0;left: 50%;z-index: 0;}#sk-container-id-1 div.sk-serial {display: flex;flex-direction: column;align-items: center;background-color: white;padding-right: 0.2em;padding-left: 0.2em;position: relative;}#sk-container-id-1 div.sk-item {position: relative;z-index: 1;}#sk-container-id-1 div.sk-parallel {display: flex;align-items: stretch;justify-content: center;background-color: white;position: relative;}#sk-container-id-1 div.sk-item::before, #sk-container-id-1 div.sk-parallel-item::before {content: \"\";position: absolute;border-left: 1px solid gray;box-sizing: border-box;top: 0;bottom: 0;left: 50%;z-index: -1;}#sk-container-id-1 div.sk-parallel-item {display: flex;flex-direction: column;z-index: 1;position: relative;background-color: white;}#sk-container-id-1 div.sk-parallel-item:first-child::after {align-self: flex-end;width: 50%;}#sk-container-id-1 div.sk-parallel-item:last-child::after {align-self: flex-start;width: 50%;}#sk-container-id-1 div.sk-parallel-item:only-child::after {width: 0;}#sk-container-id-1 div.sk-dashed-wrapped {border: 1px dashed gray;margin: 0 0.4em 0.5em 0.4em;box-sizing: border-box;padding-bottom: 0.4em;background-color: white;}#sk-container-id-1 div.sk-label label {font-family: monospace;font-weight: bold;display: inline-block;line-height: 1.2em;}#sk-container-id-1 div.sk-label-container {text-align: center;}#sk-container-id-1 div.sk-container {/* jupyter's `normalize.less` sets `[hidden] { display: none; }` but bootstrap.min.css set `[hidden] { display: none !important; }` so we also need the `!important` here to be able to override the default hidden behavior on the sphinx rendered scikit-learn.org. See: https://github.com/scikit-learn/scikit-learn/issues/21755 */display: inline-block !important;position: relative;}#sk-container-id-1 div.sk-text-repr-fallback {display: none;}</style><div id=\"sk-container-id-1\" class=\"sk-top-container\"><div class=\"sk-text-repr-fallback\"><pre>DecisionTreeClassifier(criterion=&#x27;entropy&#x27;, max_depth=5, random_state=2)</pre><b>In a Jupyter environment, please rerun this cell to show the HTML representation or trust the notebook. <br />On GitHub, the HTML representation is unable to render, please try loading this page with nbviewer.org.</b></div><div class=\"sk-container\" hidden><div class=\"sk-item\"><div class=\"sk-estimator sk-toggleable\"><input class=\"sk-toggleable__control sk-hidden--visually\" id=\"sk-estimator-id-1\" type=\"checkbox\" checked><label for=\"sk-estimator-id-1\" class=\"sk-toggleable__label sk-toggleable__label-arrow\">DecisionTreeClassifier</label><div class=\"sk-toggleable__content\"><pre>DecisionTreeClassifier(criterion=&#x27;entropy&#x27;, max_depth=5, random_state=2)</pre></div></div></div></div></div>"
      ],
      "text/plain": [
       "DecisionTreeClassifier(criterion='entropy', max_depth=5, random_state=2)"
      ]
     },
     "execution_count": 13,
     "metadata": {},
     "output_type": "execute_result"
    }
   ],
   "source": [
    "from sklearn.tree import DecisionTreeClassifier\n",
    "DecisionTree = DecisionTreeClassifier(criterion=\"entropy\",random_state=2,max_depth=5)\n",
    "DecisionTree.fit(X_train_tfidf, y_train) "
   ]
  },
  {
   "cell_type": "code",
   "execution_count": 14,
   "id": "70cd1650",
   "metadata": {},
   "outputs": [
    {
     "name": "stdout",
     "output_type": "stream",
     "text": [
      "Accuracy: 0.33174316658071173\n",
      "Precision: 0.2572164948453608\n",
      "Recall: 0.2572164948453608\n",
      "F1 Score: 0.2572164948453608\n"
     ]
    }
   ],
   "source": [
    "y_pred = DecisionTree.predict(X_test_tfidf)\n",
    "acc=DecisionTree.score(X_train_tfidf, y_train)\n",
    "# Calculate precision, recall, and F1 score\n",
    "precision = precision_score(y_test, y_pred, average='micro')\n",
    "recall = recall_score(y_test, y_pred, average='micro')\n",
    "f1 = f1_score(y_test, y_pred, average='micro')\n",
    "print(\"Accuracy:\", acc)\n",
    "print(\"Precision:\", precision)\n",
    "print(\"Recall:\", recall)\n",
    "print(\"F1 Score:\", f1)"
   ]
  },
  {
   "cell_type": "code",
   "execution_count": 15,
   "id": "a43eb216",
   "metadata": {},
   "outputs": [
    {
     "data": {
      "text/html": [
       "<style>#sk-container-id-2 {color: black;background-color: white;}#sk-container-id-2 pre{padding: 0;}#sk-container-id-2 div.sk-toggleable {background-color: white;}#sk-container-id-2 label.sk-toggleable__label {cursor: pointer;display: block;width: 100%;margin-bottom: 0;padding: 0.3em;box-sizing: border-box;text-align: center;}#sk-container-id-2 label.sk-toggleable__label-arrow:before {content: \"▸\";float: left;margin-right: 0.25em;color: #696969;}#sk-container-id-2 label.sk-toggleable__label-arrow:hover:before {color: black;}#sk-container-id-2 div.sk-estimator:hover label.sk-toggleable__label-arrow:before {color: black;}#sk-container-id-2 div.sk-toggleable__content {max-height: 0;max-width: 0;overflow: hidden;text-align: left;background-color: #f0f8ff;}#sk-container-id-2 div.sk-toggleable__content pre {margin: 0.2em;color: black;border-radius: 0.25em;background-color: #f0f8ff;}#sk-container-id-2 input.sk-toggleable__control:checked~div.sk-toggleable__content {max-height: 200px;max-width: 100%;overflow: auto;}#sk-container-id-2 input.sk-toggleable__control:checked~label.sk-toggleable__label-arrow:before {content: \"▾\";}#sk-container-id-2 div.sk-estimator input.sk-toggleable__control:checked~label.sk-toggleable__label {background-color: #d4ebff;}#sk-container-id-2 div.sk-label input.sk-toggleable__control:checked~label.sk-toggleable__label {background-color: #d4ebff;}#sk-container-id-2 input.sk-hidden--visually {border: 0;clip: rect(1px 1px 1px 1px);clip: rect(1px, 1px, 1px, 1px);height: 1px;margin: -1px;overflow: hidden;padding: 0;position: absolute;width: 1px;}#sk-container-id-2 div.sk-estimator {font-family: monospace;background-color: #f0f8ff;border: 1px dotted black;border-radius: 0.25em;box-sizing: border-box;margin-bottom: 0.5em;}#sk-container-id-2 div.sk-estimator:hover {background-color: #d4ebff;}#sk-container-id-2 div.sk-parallel-item::after {content: \"\";width: 100%;border-bottom: 1px solid gray;flex-grow: 1;}#sk-container-id-2 div.sk-label:hover label.sk-toggleable__label {background-color: #d4ebff;}#sk-container-id-2 div.sk-serial::before {content: \"\";position: absolute;border-left: 1px solid gray;box-sizing: border-box;top: 0;bottom: 0;left: 50%;z-index: 0;}#sk-container-id-2 div.sk-serial {display: flex;flex-direction: column;align-items: center;background-color: white;padding-right: 0.2em;padding-left: 0.2em;position: relative;}#sk-container-id-2 div.sk-item {position: relative;z-index: 1;}#sk-container-id-2 div.sk-parallel {display: flex;align-items: stretch;justify-content: center;background-color: white;position: relative;}#sk-container-id-2 div.sk-item::before, #sk-container-id-2 div.sk-parallel-item::before {content: \"\";position: absolute;border-left: 1px solid gray;box-sizing: border-box;top: 0;bottom: 0;left: 50%;z-index: -1;}#sk-container-id-2 div.sk-parallel-item {display: flex;flex-direction: column;z-index: 1;position: relative;background-color: white;}#sk-container-id-2 div.sk-parallel-item:first-child::after {align-self: flex-end;width: 50%;}#sk-container-id-2 div.sk-parallel-item:last-child::after {align-self: flex-start;width: 50%;}#sk-container-id-2 div.sk-parallel-item:only-child::after {width: 0;}#sk-container-id-2 div.sk-dashed-wrapped {border: 1px dashed gray;margin: 0 0.4em 0.5em 0.4em;box-sizing: border-box;padding-bottom: 0.4em;background-color: white;}#sk-container-id-2 div.sk-label label {font-family: monospace;font-weight: bold;display: inline-block;line-height: 1.2em;}#sk-container-id-2 div.sk-label-container {text-align: center;}#sk-container-id-2 div.sk-container {/* jupyter's `normalize.less` sets `[hidden] { display: none; }` but bootstrap.min.css set `[hidden] { display: none !important; }` so we also need the `!important` here to be able to override the default hidden behavior on the sphinx rendered scikit-learn.org. See: https://github.com/scikit-learn/scikit-learn/issues/21755 */display: inline-block !important;position: relative;}#sk-container-id-2 div.sk-text-repr-fallback {display: none;}</style><div id=\"sk-container-id-2\" class=\"sk-top-container\"><div class=\"sk-text-repr-fallback\"><pre>MultinomialNB()</pre><b>In a Jupyter environment, please rerun this cell to show the HTML representation or trust the notebook. <br />On GitHub, the HTML representation is unable to render, please try loading this page with nbviewer.org.</b></div><div class=\"sk-container\" hidden><div class=\"sk-item\"><div class=\"sk-estimator sk-toggleable\"><input class=\"sk-toggleable__control sk-hidden--visually\" id=\"sk-estimator-id-2\" type=\"checkbox\" checked><label for=\"sk-estimator-id-2\" class=\"sk-toggleable__label sk-toggleable__label-arrow\">MultinomialNB</label><div class=\"sk-toggleable__content\"><pre>MultinomialNB()</pre></div></div></div></div></div>"
      ],
      "text/plain": [
       "MultinomialNB()"
      ]
     },
     "execution_count": 15,
     "metadata": {},
     "output_type": "execute_result"
    }
   ],
   "source": [
    "from sklearn.naive_bayes import MultinomialNB\n",
    "classifier = MultinomialNB()\n",
    "classifier.fit(X_train_tfidf, y_train)"
   ]
  },
  {
   "cell_type": "code",
   "execution_count": 16,
   "id": "751819b3",
   "metadata": {},
   "outputs": [
    {
     "name": "stdout",
     "output_type": "stream",
     "text": [
      "Accuracy: 0.9526817947395565\n",
      "Precision: 0.9417525773195876\n",
      "Recall: 0.9417525773195876\n",
      "F1 Score: 0.9417525773195876\n"
     ]
    }
   ],
   "source": [
    "# Predict the labels for the test set\n",
    "y_pred = classifier.predict(X_test_tfidf)\n",
    "acc=classifier.score(X_train_tfidf, y_train)\n",
    "# Calculate precision, recall, and F1 score\n",
    "precision = precision_score(y_test, y_pred, average='micro')\n",
    "recall = recall_score(y_test, y_pred, average='micro')\n",
    "f1 = f1_score(y_test, y_pred, average='micro')\n",
    "print(\"Accuracy:\", acc)\n",
    "print(\"Precision:\", precision)\n",
    "print(\"Recall:\", recall)\n",
    "print(\"F1 Score:\", f1)"
   ]
  },
  {
   "cell_type": "code",
   "execution_count": 17,
   "id": "aeb02654",
   "metadata": {},
   "outputs": [
    {
     "data": {
      "text/html": [
       "<div>\n",
       "<style scoped>\n",
       "    .dataframe tbody tr th:only-of-type {\n",
       "        vertical-align: middle;\n",
       "    }\n",
       "\n",
       "    .dataframe tbody tr th {\n",
       "        vertical-align: top;\n",
       "    }\n",
       "\n",
       "    .dataframe thead th {\n",
       "        text-align: right;\n",
       "    }\n",
       "</style>\n",
       "<table border=\"1\" class=\"dataframe\">\n",
       "  <thead>\n",
       "    <tr style=\"text-align: right;\">\n",
       "      <th></th>\n",
       "      <th>Q</th>\n",
       "      <th>Description</th>\n",
       "      <th>Link</th>\n",
       "      <th>A</th>\n",
       "    </tr>\n",
       "  </thead>\n",
       "  <tbody>\n",
       "    <tr>\n",
       "      <th>0</th>\n",
       "      <td>TN Illam Thedi Kalvi Scheme</td>\n",
       "      <td>Aims to reduce the learning gap for children f...</td>\n",
       "      <td>http://illamthedikalvi.tnschools.gov.in</td>\n",
       "      <td>Aims to reduce the learning gap for children f...</td>\n",
       "    </tr>\n",
       "    <tr>\n",
       "      <th>1</th>\n",
       "      <td>Dr. Muthulakshmi Reddy Maternity Benefit Scheme</td>\n",
       "      <td>Provides Amma Maternity Nutrition Kit to pregn...</td>\n",
       "      <td>NaN</td>\n",
       "      <td>Provides Amma Maternity Nutrition Kit to pregn...</td>\n",
       "    </tr>\n",
       "    <tr>\n",
       "      <th>2</th>\n",
       "      <td>TNSAND</td>\n",
       "      <td>Online sand booking portal for transparency in...</td>\n",
       "      <td>http://www.tnsand.in</td>\n",
       "      <td>Online sand booking portal for transparency in...</td>\n",
       "    </tr>\n",
       "    <tr>\n",
       "      <th>3</th>\n",
       "      <td>Puthumai Penn Scheme</td>\n",
       "      <td>Monthly scholarship of Rs. 1000 to girl studen...</td>\n",
       "      <td>http://penkalvi.tn.gov.in</td>\n",
       "      <td>Monthly scholarship of Rs. 1000 to girl studen...</td>\n",
       "    </tr>\n",
       "    <tr>\n",
       "      <th>4</th>\n",
       "      <td>Naan Mudhalvan Scheme</td>\n",
       "      <td>Skill development initiative for students to e...</td>\n",
       "      <td>http://naanmudhalvan.tn.gov.in</td>\n",
       "      <td>Skill development initiative for students to e...</td>\n",
       "    </tr>\n",
       "    <tr>\n",
       "      <th>...</th>\n",
       "      <td>...</td>\n",
       "      <td>...</td>\n",
       "      <td>...</td>\n",
       "      <td>...</td>\n",
       "    </tr>\n",
       "    <tr>\n",
       "      <th>9691</th>\n",
       "      <td>TN Amma Two-Wheeler Scheme</td>\n",
       "      <td>Empowering working women with subsidies for tw...</td>\n",
       "      <td>https://www.tn.gov.in</td>\n",
       "      <td>Empowering working women with subsidies for tw...</td>\n",
       "    </tr>\n",
       "    <tr>\n",
       "      <th>9692</th>\n",
       "      <td>Tamil Nadu Free Laptop Scheme</td>\n",
       "      <td>Free laptops to students for digital learning</td>\n",
       "      <td>https://www.tn.gov.in</td>\n",
       "      <td>Free laptops to students for digital learning ...</td>\n",
       "    </tr>\n",
       "    <tr>\n",
       "      <th>9693</th>\n",
       "      <td>TN Chief Minister Comprehensive Health Insuran...</td>\n",
       "      <td>Medical insurance coverage for Tamil Nadu resi...</td>\n",
       "      <td>https://www.tn.gov.in</td>\n",
       "      <td>Medical insurance coverage for Tamil Nadu resi...</td>\n",
       "    </tr>\n",
       "    <tr>\n",
       "      <th>9694</th>\n",
       "      <td>TN Free Bicycle Scheme</td>\n",
       "      <td>Distributing bicycles to students in governmen...</td>\n",
       "      <td>https://www.tn.gov.in</td>\n",
       "      <td>Distributing bicycles to students in governmen...</td>\n",
       "    </tr>\n",
       "    <tr>\n",
       "      <th>9695</th>\n",
       "      <td>Tamil Nadu Free Sewing Machine Scheme</td>\n",
       "      <td>Free sewing machines for women and differently...</td>\n",
       "      <td>https://www.tn.gov.in</td>\n",
       "      <td>Free sewing machines for women and differently...</td>\n",
       "    </tr>\n",
       "  </tbody>\n",
       "</table>\n",
       "<p>9696 rows × 4 columns</p>\n",
       "</div>"
      ],
      "text/plain": [
       "                                                      Q  \\\n",
       "0                           TN Illam Thedi Kalvi Scheme   \n",
       "1       Dr. Muthulakshmi Reddy Maternity Benefit Scheme   \n",
       "2                                                TNSAND   \n",
       "3                                  Puthumai Penn Scheme   \n",
       "4                                 Naan Mudhalvan Scheme   \n",
       "...                                                 ...   \n",
       "9691                         TN Amma Two-Wheeler Scheme   \n",
       "9692                      Tamil Nadu Free Laptop Scheme   \n",
       "9693  TN Chief Minister Comprehensive Health Insuran...   \n",
       "9694                             TN Free Bicycle Scheme   \n",
       "9695              Tamil Nadu Free Sewing Machine Scheme   \n",
       "\n",
       "                                            Description  \\\n",
       "0     Aims to reduce the learning gap for children f...   \n",
       "1     Provides Amma Maternity Nutrition Kit to pregn...   \n",
       "2     Online sand booking portal for transparency in...   \n",
       "3     Monthly scholarship of Rs. 1000 to girl studen...   \n",
       "4     Skill development initiative for students to e...   \n",
       "...                                                 ...   \n",
       "9691  Empowering working women with subsidies for tw...   \n",
       "9692      Free laptops to students for digital learning   \n",
       "9693  Medical insurance coverage for Tamil Nadu resi...   \n",
       "9694  Distributing bicycles to students in governmen...   \n",
       "9695  Free sewing machines for women and differently...   \n",
       "\n",
       "                                         Link  \\\n",
       "0     http://illamthedikalvi.tnschools.gov.in   \n",
       "1                                         NaN   \n",
       "2                        http://www.tnsand.in   \n",
       "3                   http://penkalvi.tn.gov.in   \n",
       "4              http://naanmudhalvan.tn.gov.in   \n",
       "...                                       ...   \n",
       "9691                    https://www.tn.gov.in   \n",
       "9692                    https://www.tn.gov.in   \n",
       "9693                    https://www.tn.gov.in   \n",
       "9694                    https://www.tn.gov.in   \n",
       "9695                    https://www.tn.gov.in   \n",
       "\n",
       "                                                      A  \n",
       "0     Aims to reduce the learning gap for children f...  \n",
       "1     Provides Amma Maternity Nutrition Kit to pregn...  \n",
       "2     Online sand booking portal for transparency in...  \n",
       "3     Monthly scholarship of Rs. 1000 to girl studen...  \n",
       "4     Skill development initiative for students to e...  \n",
       "...                                                 ...  \n",
       "9691  Empowering working women with subsidies for tw...  \n",
       "9692  Free laptops to students for digital learning ...  \n",
       "9693  Medical insurance coverage for Tamil Nadu resi...  \n",
       "9694  Distributing bicycles to students in governmen...  \n",
       "9695  Free sewing machines for women and differently...  \n",
       "\n",
       "[9696 rows x 4 columns]"
      ]
     },
     "execution_count": 17,
     "metadata": {},
     "output_type": "execute_result"
    }
   ],
   "source": [
    "df"
   ]
  },
  {
   "cell_type": "code",
   "execution_count": 18,
   "id": "014458e0",
   "metadata": {},
   "outputs": [
    {
     "name": "stdout",
     "output_type": "stream",
     "text": [
      "Prediction: Empowering working women with subsidies for two-wheelers   https://www.tn.gov.in\n"
     ]
    }
   ],
   "source": [
    "new_input = \"TN Amma Two-Wheeler Scheme\"\n",
    "new_input_processed = vectorizer.transform([new_input])\n",
    "prediction = classifier.predict(new_input_processed)\n",
    "print(\"Prediction:\", prediction[0])"
   ]
  },
  {
   "cell_type": "code",
   "execution_count": 19,
   "id": "97f59e71",
   "metadata": {},
   "outputs": [],
   "source": [
    "import pickle\n",
    "# Dump the trained Naive Bayes classifier with Pickle\n",
    "DT_filename = 'DT.pkl'\n",
    "# Open the file to save as pkl file\n",
    "DT_Model_pkl = open(DT_filename, 'wb')\n",
    "pickle.dump(classifier, DT_Model_pkl)\n",
    "# Close the pickle instances\n",
    "DT_Model_pkl.close()"
   ]
  },
  {
   "cell_type": "code",
   "execution_count": null,
   "id": "1ab34b8f",
   "metadata": {},
   "outputs": [],
   "source": []
  },
  {
   "cell_type": "code",
   "execution_count": null,
   "id": "80493a1d-c97e-4e79-a7a8-647f23cf79ba",
   "metadata": {},
   "outputs": [],
   "source": []
  },
  {
   "cell_type": "code",
   "execution_count": null,
   "id": "74a1be0d-73fb-4f34-9fed-2762835d042e",
   "metadata": {},
   "outputs": [],
   "source": []
  },
  {
   "cell_type": "code",
   "execution_count": null,
   "id": "36567ff0-b479-4ce9-86bc-4a47c47da746",
   "metadata": {},
   "outputs": [],
   "source": []
  }
 ],
 "metadata": {
  "kernelspec": {
   "display_name": "Python 3 (ipykernel)",
   "language": "python",
   "name": "python3"
  },
  "language_info": {
   "codemirror_mode": {
    "name": "ipython",
    "version": 3
   },
   "file_extension": ".py",
   "mimetype": "text/x-python",
   "name": "python",
   "nbconvert_exporter": "python",
   "pygments_lexer": "ipython3",
   "version": "3.11.7"
  }
 },
 "nbformat": 4,
 "nbformat_minor": 5
}
